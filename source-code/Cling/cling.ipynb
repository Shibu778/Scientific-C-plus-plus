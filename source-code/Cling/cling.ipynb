{
 "cells": [
  {
   "cell_type": "markdown",
   "id": "93aa1a6d-ded7-405d-967a-5af0a78bcc02",
   "metadata": {},
   "source": [
    "## Includes"
   ]
  },
  {
   "cell_type": "code",
   "execution_count": 11,
   "id": "ab950ce5-4482-4075-a0d9-5546a1054f3b",
   "metadata": {},
   "outputs": [],
   "source": [
    "#include <cmath>"
   ]
  },
  {
   "cell_type": "markdown",
   "id": "02534fad-ef89-45e7-83c3-f415493fb27f",
   "metadata": {},
   "source": [
    "## Functions"
   ]
  },
  {
   "cell_type": "markdown",
   "id": "78baad61-2201-433b-8ca2-468b4c801438",
   "metadata": {},
   "source": [
    "You can easily define C++ functions and execute them."
   ]
  },
  {
   "cell_type": "code",
   "execution_count": 1,
   "id": "c0d3890e-9c6c-4331-988c-db78e119cf09",
   "metadata": {},
   "outputs": [],
   "source": [
    "long fac(long n) {\n",
    "    if (n < 2) {\n",
    "        return 1;\n",
    "    } else {\n",
    "        return n*fac(n - 1);\n",
    "    }\n",
    "}"
   ]
  },
  {
   "cell_type": "markdown",
   "id": "3ab30da5-0c1f-4de9-b443-2ecf38e3af83",
   "metadata": {},
   "source": [
    "If you omit the semicolon at the end of a statement the cell will be interpreted as an expression, and the result is displayed in the notebook."
   ]
  },
  {
   "cell_type": "code",
   "execution_count": 2,
   "id": "e8f72853-47a9-4002-b900-b2721228e914",
   "metadata": {},
   "outputs": [
    {
     "data": {
      "text/plain": [
       "120"
      ]
     },
     "execution_count": 2,
     "metadata": {},
     "output_type": "execute_result"
    }
   ],
   "source": [
    "fac(5)"
   ]
  },
  {
   "cell_type": "markdown",
   "id": "6cf5faf2-22b6-4a49-beb6-05ca302163d2",
   "metadata": {},
   "source": [
    "## Classes"
   ]
  },
  {
   "cell_type": "markdown",
   "id": "f41e25c5-4df7-47e1-9183-c9e43326fb16",
   "metadata": {},
   "source": [
    "You can define full-fledged classes as well."
   ]
  },
  {
   "cell_type": "code",
   "execution_count": 12,
   "id": "19727d7f-b764-4acb-83d9-a9bb819e891a",
   "metadata": {},
   "outputs": [],
   "source": [
    "struct Point {\n",
    "    private:\n",
    "        double x_, y_;\n",
    "    public:\n",
    "        Point(const double x, const double y) : x_ {x}, y_ {y} {}\n",
    "        double x() const { return x_; }\n",
    "        double y() const { return y_; }\n",
    "        void move(const double delta_x, const double delta_y) {\n",
    "            x_ += delta_x;\n",
    "            y_ += delta_y;\n",
    "        }\n",
    "        double distance(const Point& other) const {\n",
    "            return sqrt((x() - other.x())*(x() - other.x()) + (y() - other.y())*(y() - other.y()));\n",
    "        }\n",
    "};"
   ]
  },
  {
   "cell_type": "markdown",
   "id": "f72cfd25-1040-4392-8f51-a9192a423d3b",
   "metadata": {},
   "source": [
    "You can instantiate objects easily and interact with them."
   ]
  },
  {
   "cell_type": "code",
   "execution_count": 13,
   "id": "7246af92-f80b-4620-8ac6-1ca394af0bc5",
   "metadata": {},
   "outputs": [],
   "source": [
    "Point p(1.2, 3.5);"
   ]
  },
  {
   "cell_type": "code",
   "execution_count": 14,
   "id": "c2194ebd-10b7-4190-b8e5-0ee8564338ea",
   "metadata": {},
   "outputs": [],
   "source": [
    "Point p2 {4.2, -0.5}"
   ]
  },
  {
   "cell_type": "code",
   "execution_count": 15,
   "id": "e1c1a570-7243-4b52-9d87-e22178af5415",
   "metadata": {},
   "outputs": [
    {
     "data": {
      "text/plain": [
       "5.0000000"
      ]
     },
     "execution_count": 15,
     "metadata": {},
     "output_type": "execute_result"
    }
   ],
   "source": [
    "p.distance(p2)"
   ]
  },
  {
   "cell_type": "code",
   "execution_count": 8,
   "id": "49f1b032-6d8f-47ba-8bde-cd7df0bf5045",
   "metadata": {},
   "outputs": [],
   "source": [
    "p.move(-0.2, -3.3)"
   ]
  },
  {
   "cell_type": "code",
   "execution_count": 9,
   "id": "2c2fac7b-2518-4f3e-b2a9-85ab58722bad",
   "metadata": {},
   "outputs": [
    {
     "data": {
      "text/plain": [
       "1.0000000"
      ]
     },
     "execution_count": 9,
     "metadata": {},
     "output_type": "execute_result"
    }
   ],
   "source": [
    "p.x()"
   ]
  },
  {
   "cell_type": "code",
   "execution_count": 10,
   "id": "17abf5c9-519e-420a-8161-81f2d9eddbe6",
   "metadata": {},
   "outputs": [
    {
     "data": {
      "text/plain": [
       "0.20000000"
      ]
     },
     "execution_count": 10,
     "metadata": {},
     "output_type": "execute_result"
    }
   ],
   "source": [
    "p.y()"
   ]
  },
  {
   "cell_type": "markdown",
   "id": "5c2eec0b-e1c0-43d0-b879-3581644bf935",
   "metadata": {},
   "source": [
    "This seems promising for code exploration and training."
   ]
  }
 ],
 "metadata": {
  "kernelspec": {
   "display_name": "C++17",
   "language": "C++17",
   "name": "xcpp17"
  },
  "language_info": {
   "codemirror_mode": "text/x-c++src",
   "file_extension": ".cpp",
   "mimetype": "text/x-c++src",
   "name": "c++",
   "version": "17"
  }
 },
 "nbformat": 4,
 "nbformat_minor": 5
}
